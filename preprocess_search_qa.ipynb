{
 "cells": [
  {
   "cell_type": "code",
   "execution_count": 77,
   "id": "initial_id",
   "metadata": {
    "collapsed": true,
    "ExecuteTime": {
     "end_time": "2024-01-04T13:37:15.551217Z",
     "start_time": "2024-01-04T13:37:15.439831Z"
    }
   },
   "outputs": [],
   "source": [
    "import pandas as pd\n",
    "from datasets import load_dataset, Dataset\n",
    "import uuid\n",
    "from copy import deepcopy"
   ]
  },
  {
   "cell_type": "code",
   "execution_count": 78,
   "outputs": [],
   "source": [
    "file_path = \"search_qa\"\n",
    "dataset = load_dataset(file_path, 'raw_jeopardy')['train'].to_pandas()\n",
    "dataset['value'] = dataset['value'].fillna('$0')\n",
    "dataset = dataset.dropna()\n",
    "metadata = dataset[['air_date', 'category', 'value', 'round', 'show_number']]\n",
    "dataset = dataset.drop(['air_date', 'category', 'value', 'round', 'show_number'], axis=1)"
   ],
   "metadata": {
    "collapsed": false,
    "ExecuteTime": {
     "end_time": "2024-01-04T13:37:46.561877Z",
     "start_time": "2024-01-04T13:37:15.442755Z"
    }
   },
   "id": "8dc32154f347d3b4"
  },
  {
   "cell_type": "markdown",
   "source": [
    "## dataset에 query_id 추가"
   ],
   "metadata": {
    "collapsed": false
   },
   "id": "9bdd6731f3a8d411"
  },
  {
   "cell_type": "code",
   "execution_count": 79,
   "outputs": [],
   "source": [
    "dataset = pd.Series([str(uuid.uuid4()) for _ in range(len(dataset))], name='query_id').to_frame().join(dataset)"
   ],
   "metadata": {
    "collapsed": false,
    "ExecuteTime": {
     "end_time": "2024-01-04T13:37:47.194384Z",
     "start_time": "2024-01-04T13:37:46.564791Z"
    }
   },
   "id": "8c85f17657002a14"
  },
  {
   "cell_type": "markdown",
   "source": [
    "## preprocessing corpus\n",
    "task: retrieval gt를 만들기 위한 corpus(metadata가 없음)와 ingestion을 위한 corpus(metadata가 있음)를 만들어야함"
   ],
   "metadata": {
    "collapsed": false
   },
   "id": "f10d10cb526951fd"
  },
  {
   "cell_type": "code",
   "execution_count": 80,
   "outputs": [],
   "source": [
    "corpus = dataset['search_results'].apply(pd.Series)\n",
    "corpus = corpus.drop(['related_links', 'titles', 'urls'], axis=1)"
   ],
   "metadata": {
    "collapsed": false,
    "ExecuteTime": {
     "end_time": "2024-01-04T13:38:22.874710Z",
     "start_time": "2024-01-04T13:37:47.213672Z"
    }
   },
   "id": "c645c7ceb9927086"
  },
  {
   "cell_type": "markdown",
   "source": [
    "1. query하나당 똑같은 snippet이 나오지 체크\n",
    "2. 동일 쿼리 안에 중복되는 snippet 제거"
   ],
   "metadata": {
    "collapsed": false
   },
   "id": "f540215074986e74"
  },
  {
   "cell_type": "code",
   "execution_count": 81,
   "outputs": [],
   "source": [
    "corpus['snippets'] = corpus['snippets'].apply(lambda x: list(set(x.tolist())))"
   ],
   "metadata": {
    "collapsed": false,
    "ExecuteTime": {
     "end_time": "2024-01-04T13:38:27.793150Z",
     "start_time": "2024-01-04T13:38:22.873554Z"
    }
   },
   "id": "7e8c531c7321b64d"
  },
  {
   "cell_type": "markdown",
   "source": [
    "#### test code\n",
    "중복 snippet이 있는지 체크해주는 test코드"
   ],
   "metadata": {
    "collapsed": false
   },
   "id": "3710fcad021f98a3"
  },
  {
   "cell_type": "code",
   "execution_count": 82,
   "outputs": [],
   "source": [
    "for i in corpus['snippets']:\n",
    "    test = set(i)\n",
    "    if len(test) != len(i):\n",
    "        raise ValueError(\"There is same snippets in corpus['snippets']\")"
   ],
   "metadata": {
    "collapsed": false,
    "ExecuteTime": {
     "end_time": "2024-01-04T13:38:28.511349Z",
     "start_time": "2024-01-04T13:38:27.891724Z"
    }
   },
   "id": "a81748fe43654e55"
  },
  {
   "cell_type": "markdown",
   "source": [
    "corpus를 metadata와 분리 어차피 그룹바이하고나서 meta_data는 붙여바로면 됌<br>\n",
    "corpus는 query_id/snippet/air_date/category/value/round/show_number형태임"
   ],
   "metadata": {
    "collapsed": false
   },
   "id": "d9b9e3ebf4a42ff5"
  },
  {
   "cell_type": "code",
   "execution_count": 83,
   "outputs": [],
   "source": [
    "corpus = pd.concat([dataset['query_id'], corpus, metadata], axis=1)  # metadata 있는 corpus용 corpus"
   ],
   "metadata": {
    "collapsed": false,
    "ExecuteTime": {
     "end_time": "2024-01-04T13:38:28.531334Z",
     "start_time": "2024-01-04T13:38:28.513392Z"
    }
   },
   "id": "e84ca7faa6739eda"
  },
  {
   "cell_type": "markdown",
   "source": [
    "#### test code\n",
    "corpus가 null값이 있는지 체크"
   ],
   "metadata": {
    "collapsed": false
   },
   "id": "9dd40a647ebebd"
  },
  {
   "cell_type": "code",
   "execution_count": 84,
   "outputs": [
    {
     "name": "stdout",
     "output_type": "stream",
     "text": [
      "query_id       0\n",
      "snippets       0\n",
      "air_date       0\n",
      "category       0\n",
      "value          0\n",
      "round          0\n",
      "show_number    0\n",
      "dtype: int64\n"
     ]
    }
   ],
   "source": [
    "check_corpus_isnull = corpus.isnull().sum()\n",
    "print(check_corpus_isnull)\n",
    "# assert check_corpus_isnull['snippets'] == 0  # corpus에 null값이 있는지 확인(특히 snippets에 null값이 있는지 확인)"
   ],
   "metadata": {
    "collapsed": false,
    "ExecuteTime": {
     "end_time": "2024-01-04T13:38:28.554354Z",
     "start_time": "2024-01-04T13:38:28.551779Z"
    }
   },
   "id": "830c249cb515168b"
  },
  {
   "cell_type": "markdown",
   "source": [
    "결과:<br>\n",
    "모두 null값 없음"
   ],
   "metadata": {
    "collapsed": false
   },
   "id": "b9bff06dc55ebf6a"
  },
  {
   "cell_type": "markdown",
   "source": [
    "## explode해서 flatten함.\n",
    "#### test code"
   ],
   "metadata": {
    "collapsed": false
   },
   "id": "2cdad3a8e0c9e9f3"
  },
  {
   "cell_type": "code",
   "execution_count": 85,
   "outputs": [],
   "source": [
    "for_checking_lost_snippets = 0\n",
    "for i in corpus['snippets']:\n",
    "    for_checking_lost_snippets += len(i)\n",
    "    # if None in i:\n",
    "    #     raise ValueError(\"There is None in corpus['snippets']\")\n",
    "    # TODO: 이것을 확인하기 위해서 corpus의 query_id와 원본 query_id를 비교해보자 실험"
   ],
   "metadata": {
    "collapsed": false,
    "ExecuteTime": {
     "end_time": "2024-01-04T13:38:28.584659Z",
     "start_time": "2024-01-04T13:38:28.577743Z"
    }
   },
   "id": "5a29e07efd3e85fd"
  },
  {
   "cell_type": "markdown",
   "source": [
    "정보:\n",
    "- snippet 자체에서 null값이 있는것을 확인했음\n",
    "- 한 query안에 모두 null이라 query 자체가 날라가는것도 있음"
   ],
   "metadata": {
    "collapsed": false
   },
   "id": "7266e8820457f250"
  },
  {
   "cell_type": "code",
   "execution_count": 86,
   "outputs": [],
   "source": [
    "corpus = corpus.explode(['snippets']).reset_index(drop=True)"
   ],
   "metadata": {
    "collapsed": false,
    "ExecuteTime": {
     "end_time": "2024-01-04T13:38:34.753314Z",
     "start_time": "2024-01-04T13:38:28.581580Z"
    }
   },
   "id": "45f85f821fe766fa"
  },
  {
   "cell_type": "markdown",
   "source": [
    "#### test code"
   ],
   "metadata": {
    "collapsed": false
   },
   "id": "45be7a3c2756b64b"
  },
  {
   "cell_type": "code",
   "execution_count": 87,
   "outputs": [
    {
     "name": "stdout",
     "output_type": "stream",
     "text": [
      "explode해서 생긴 null값 체크 : query_id            0\n",
      "snippets       116988\n",
      "air_date            0\n",
      "category            0\n",
      "value               0\n",
      "round               0\n",
      "show_number         0\n",
      "dtype: int64\n"
     ]
    }
   ],
   "source": [
    "# Check if snippet are lost or not.\n",
    "assert len(corpus) == for_checking_lost_snippets\n",
    "\n",
    "check_explode_corpus_isnull = corpus.isnull().sum() \n",
    "print(f\"explode해서 생긴 null값 체크 : {check_explode_corpus_isnull}\")# corpus에 null값이 있는지 확인(특히 snippets에 null값이 있는지 확인)\n",
    "# assert check_explod_corpus_isnull['snippets'] == 0  # corpus에 null값이 있는지 확인(특히 snippets에 null값이 있는지 확인)\n",
    "\n",
    "# TODO: explode가 문제인것을 확인 -> 그렇다면 원래 snippets이 null값이었던것인가? -> 원래 snippet이 여러개였던 녀석 존나 많음\n",
    "\n",
    "# TODO: dropna가 문제인지 체크하기 위해서 따로 빼놓음\n",
    "corpus = corpus.dropna()"
   ],
   "metadata": {
    "collapsed": false,
    "ExecuteTime": {
     "end_time": "2024-01-04T13:38:41.378021Z",
     "start_time": "2024-01-04T13:38:34.755313Z"
    }
   },
   "id": "40bca6cc3573fb2a"
  },
  {
   "cell_type": "markdown",
   "source": [
    "## dupliacte corpus 제거"
   ],
   "metadata": {
    "collapsed": false
   },
   "id": "58aa71d5ebe25005"
  },
  {
   "cell_type": "code",
   "execution_count": 88,
   "outputs": [],
   "source": [
    "gt_corpus = corpus.drop(['air_date', 'category', 'value', 'round', 'show_number'], axis=1)  # gt를 만들기 위한 corpus\n",
    "copy_corpus = deepcopy(corpus)\n",
    "copy_corpus = copy_corpus.dropna()"
   ],
   "metadata": {
    "collapsed": false,
    "ExecuteTime": {
     "end_time": "2024-01-04T13:38:48.451052Z",
     "start_time": "2024-01-04T13:38:41.378492Z"
    }
   },
   "id": "f34b88c4f4fff40e"
  },
  {
   "cell_type": "markdown",
   "source": [
    "#### test code\n",
    "duplicate snippet이 merge할때 null이 생기는것과 동일한가?"
   ],
   "metadata": {
    "collapsed": false
   },
   "id": "c0a4652d23316f24"
  },
  {
   "cell_type": "code",
   "execution_count": 89,
   "outputs": [
    {
     "name": "stdout",
     "output_type": "stream",
     "text": [
      "160754\n"
     ]
    }
   ],
   "source": [
    "check_isduplicate_before_drop_duplicates = copy_corpus['snippets'].duplicated().sum()\n",
    "print(check_isduplicate_before_drop_duplicates)"
   ],
   "metadata": {
    "collapsed": false,
    "ExecuteTime": {
     "end_time": "2024-01-04T13:38:52.478210Z",
     "start_time": "2024-01-04T13:38:52.473514Z"
    }
   },
   "id": "c9eb0924c95d1bc1"
  },
  {
   "cell_type": "markdown",
   "source": [],
   "metadata": {
    "collapsed": false
   },
   "id": "6f7be6bc255f9a67"
  },
  {
   "cell_type": "code",
   "execution_count": 90,
   "outputs": [],
   "source": [
    "copy_corpus = copy_corpus.drop_duplicates(subset='snippets', keep='first')"
   ],
   "metadata": {
    "collapsed": false,
    "ExecuteTime": {
     "end_time": "2024-01-04T13:38:59.031471Z",
     "start_time": "2024-01-04T13:38:57.045036Z"
    }
   },
   "id": "bd2667ca4a6f08a7"
  },
  {
   "cell_type": "markdown",
   "source": [
    "#### test code\n",
    "corpus에 null값이 있는지 확인(특히 snippets에 null값이 있는지 확인)"
   ],
   "metadata": {
    "collapsed": false
   },
   "id": "cec14ff47e7f8660"
  },
  {
   "cell_type": "code",
   "execution_count": 91,
   "outputs": [
    {
     "name": "stdout",
     "output_type": "stream",
     "text": [
      "query_id       0\n",
      "snippets       0\n",
      "air_date       0\n",
      "category       0\n",
      "value          0\n",
      "round          0\n",
      "show_number    0\n",
      "dtype: int64\n"
     ]
    }
   ],
   "source": [
    "check_isnull_after_drop_duplicates = copy_corpus.isnull().sum()\n",
    "print(check_isnull_after_drop_duplicates)# 중복된 snippet은 제거된 상태, 즉 순수한 corpus 추출\n",
    "assert check_isnull_after_drop_duplicates['snippets'] == 0  # corpus에 null값이 있는지 확인(특히 snippets에 null값이 있는지 확인)"
   ],
   "metadata": {
    "collapsed": false,
    "ExecuteTime": {
     "end_time": "2024-01-04T13:39:00.994704Z",
     "start_time": "2024-01-04T13:38:59.029284Z"
    }
   },
   "id": "1f67aeead4d019de"
  },
  {
   "cell_type": "markdown",
   "source": [
    "#### test code\n",
    "여기서 snippet 외의 none값이 발생되어서 원래 있어야할 snippet과 doc_id가 사라져 매칭이 안되는 억까 ->"
   ],
   "metadata": {
    "collapsed": false
   },
   "id": "a9f736ff8c71a66f"
  },
  {
   "cell_type": "code",
   "execution_count": 92,
   "outputs": [],
   "source": [
    "check_isnull_after_drop_duplicates = copy_corpus.isnull().sum()  # 중복된 snippet은 제거된 상태, 즉 순수한 corpus 추출\n",
    "assert check_isnull_after_drop_duplicates['snippets'] == 0  # corpus에 null값이 있는지 확인(특히 snippets에 null값이 있는지 확인)"
   ],
   "metadata": {
    "collapsed": false,
    "ExecuteTime": {
     "end_time": "2024-01-04T13:39:03.301616Z",
     "start_time": "2024-01-04T13:39:00.994307Z"
    }
   },
   "id": "73c173c31f99918a"
  },
  {
   "cell_type": "code",
   "execution_count": 93,
   "outputs": [],
   "source": [
    "copy_corpus = copy_corpus.dropna()"
   ],
   "metadata": {
    "collapsed": false,
    "ExecuteTime": {
     "end_time": "2024-01-04T13:39:06.407452Z",
     "start_time": "2024-01-04T13:39:03.302097Z"
    }
   },
   "id": "efb2ca8de935b9be"
  },
  {
   "cell_type": "markdown",
   "source": [
    "중복된 snippet은 제거된 상태, 즉 순수한 corpus 추출, doc_id생성"
   ],
   "metadata": {
    "collapsed": false
   },
   "id": "96d2949a73790a42"
  },
  {
   "cell_type": "markdown",
   "source": [
    "# Doc id 부여"
   ],
   "metadata": {
    "collapsed": false
   },
   "id": "3e19d304f5eec7d4"
  },
  {
   "cell_type": "code",
   "execution_count": 94,
   "outputs": [],
   "source": [
    "def __make_doc_id(row):\n",
    "    return str(uuid.uuid4())"
   ],
   "metadata": {
    "collapsed": false,
    "ExecuteTime": {
     "end_time": "2024-01-04T13:39:06.409537Z",
     "start_time": "2024-01-04T13:39:06.407328Z"
    }
   },
   "id": "2ec1d99610232056"
  },
  {
   "cell_type": "code",
   "execution_count": 95,
   "outputs": [
    {
     "data": {
      "text/plain": "                                  query_id snippets    air_date  \\\n4954  9f076f16-286a-4fa9-97bc-5d33ec57a18a           2010-07-06   \n\n               category value      round  show_number  \n4954  RHYMES WITH SMART  $200  Jeopardy!         5957  ",
      "text/html": "<div>\n<style scoped>\n    .dataframe tbody tr th:only-of-type {\n        vertical-align: middle;\n    }\n\n    .dataframe tbody tr th {\n        vertical-align: top;\n    }\n\n    .dataframe thead th {\n        text-align: right;\n    }\n</style>\n<table border=\"1\" class=\"dataframe\">\n  <thead>\n    <tr style=\"text-align: right;\">\n      <th></th>\n      <th>query_id</th>\n      <th>snippets</th>\n      <th>air_date</th>\n      <th>category</th>\n      <th>value</th>\n      <th>round</th>\n      <th>show_number</th>\n    </tr>\n  </thead>\n  <tbody>\n    <tr>\n      <th>4954</th>\n      <td>9f076f16-286a-4fa9-97bc-5d33ec57a18a</td>\n      <td></td>\n      <td>2010-07-06</td>\n      <td>RHYMES WITH SMART</td>\n      <td>$200</td>\n      <td>Jeopardy!</td>\n      <td>5957</td>\n    </tr>\n  </tbody>\n</table>\n</div>"
     },
     "execution_count": 95,
     "metadata": {},
     "output_type": "execute_result"
    }
   ],
   "source": [
    "copy_corpus[copy_corpus.snippets == '']"
   ],
   "metadata": {
    "collapsed": false,
    "ExecuteTime": {
     "end_time": "2024-01-04T13:39:07.225428Z",
     "start_time": "2024-01-04T13:39:07.219150Z"
    }
   },
   "id": "c3c389d93ecc988b"
  },
  {
   "cell_type": "code",
   "execution_count": 96,
   "outputs": [
    {
     "data": {
      "text/plain": "                                     query_id snippets    air_date  \\\n6153680  a51013db-af5d-4da0-a21d-2e0dc2e629c4           2005-11-23   \n\n                           category  value             round  show_number  \n6153680  BEST FOREIGN LANGUAGE FILM  $1600  Double Jeopardy!         4878  ",
      "text/html": "<div>\n<style scoped>\n    .dataframe tbody tr th:only-of-type {\n        vertical-align: middle;\n    }\n\n    .dataframe tbody tr th {\n        vertical-align: top;\n    }\n\n    .dataframe thead th {\n        text-align: right;\n    }\n</style>\n<table border=\"1\" class=\"dataframe\">\n  <thead>\n    <tr style=\"text-align: right;\">\n      <th></th>\n      <th>query_id</th>\n      <th>snippets</th>\n      <th>air_date</th>\n      <th>category</th>\n      <th>value</th>\n      <th>round</th>\n      <th>show_number</th>\n    </tr>\n  </thead>\n  <tbody>\n    <tr>\n      <th>6153680</th>\n      <td>a51013db-af5d-4da0-a21d-2e0dc2e629c4</td>\n      <td></td>\n      <td>2005-11-23</td>\n      <td>BEST FOREIGN LANGUAGE FILM</td>\n      <td>$1600</td>\n      <td>Double Jeopardy!</td>\n      <td>4878</td>\n    </tr>\n  </tbody>\n</table>\n</div>"
     },
     "execution_count": 96,
     "metadata": {},
     "output_type": "execute_result"
    }
   ],
   "source": [
    "copy_corpus[copy_corpus.snippets == ' ']"
   ],
   "metadata": {
    "collapsed": false,
    "ExecuteTime": {
     "end_time": "2024-01-04T13:39:08.074487Z",
     "start_time": "2024-01-04T13:39:08.069230Z"
    }
   },
   "id": "cb8ec33e16352d01"
  },
  {
   "cell_type": "code",
   "execution_count": 97,
   "outputs": [],
   "source": [
    "# 빈칸으로 들어가있는 예상치 못했던 ㅈ같은 snippet들 제거\n",
    "before = len(copy_corpus)\n",
    "copy_corpus = copy_corpus[~(copy_corpus.snippets == ' ')]\n",
    "copy_corpus = copy_corpus[~(copy_corpus.snippets == '')]\n",
    "after = len(copy_corpus)\n",
    "assert before - after == 2"
   ],
   "metadata": {
    "collapsed": false,
    "ExecuteTime": {
     "end_time": "2024-01-04T13:39:14.496853Z",
     "start_time": "2024-01-04T13:39:09.022920Z"
    }
   },
   "id": "f5fa8dd978f523dc"
  },
  {
   "cell_type": "code",
   "execution_count": 98,
   "outputs": [],
   "source": [
    "copy_corpus['doc_id'] = copy_corpus.apply(__make_doc_id, axis=1)\n",
    "complete_corpus = deepcopy(copy_corpus)  # corpus로 hugging에 push할것(query_id/snippet/air_date/category/value/round/show_number/doc_id)"
   ],
   "metadata": {
    "collapsed": false,
    "ExecuteTime": {
     "end_time": "2024-01-04T13:40:22.792472Z",
     "start_time": "2024-01-04T13:39:14.496106Z"
    }
   },
   "id": "471f3e2594216c6b"
  },
  {
   "cell_type": "markdown",
   "source": [
    "순수한 copy_corpus를 가지고 gt를 만들기 위해 원본 corpus를 이용해서 query_id를 매칭시켜 gt를 부여"
   ],
   "metadata": {
    "collapsed": false
   },
   "id": "864c5912232ea020"
  },
  {
   "cell_type": "code",
   "execution_count": 99,
   "outputs": [],
   "source": [
    "gt_copy_corpus = copy_corpus.drop(['air_'\n",
    "                                   'date', 'category', 'value', 'round', 'show_number'], axis=1)"
   ],
   "metadata": {
    "collapsed": false,
    "ExecuteTime": {
     "end_time": "2024-01-04T13:40:23.855371Z",
     "start_time": "2024-01-04T13:40:22.796563Z"
    }
   },
   "id": "8cf54870e386c927"
  },
  {
   "cell_type": "code",
   "execution_count": 100,
   "outputs": [
    {
     "name": "stdout",
     "output_type": "stream",
     "text": [
      "query_id    0\n",
      "snippets    0\n",
      "doc_id      0\n",
      "dtype: int64\n"
     ]
    }
   ],
   "source": [
    "check_isnull_merged_df = gt_copy_corpus.isnull().sum()\n",
    "print(check_isnull_merged_df)"
   ],
   "metadata": {
    "collapsed": false,
    "ExecuteTime": {
     "end_time": "2024-01-04T13:40:25.006685Z",
     "start_time": "2024-01-04T13:40:24.995650Z"
    }
   },
   "id": "680ddbc854a2f15"
  },
  {
   "cell_type": "markdown",
   "source": [
    "## Merge해서 qa_data의 retrieval gt 만들기"
   ],
   "metadata": {
    "collapsed": false
   },
   "id": "ae44026f31e8ec53"
  },
  {
   "cell_type": "code",
   "execution_count": 101,
   "outputs": [],
   "source": [
    "merged_df = gt_corpus.merge(gt_copy_corpus, on='snippets', how='inner').drop(['query_id_y'], axis=1).rename(\n",
    "    columns={'query_id_x': 'query_id'})"
   ],
   "metadata": {
    "collapsed": false,
    "ExecuteTime": {
     "end_time": "2024-01-04T13:40:46.002062Z",
     "start_time": "2024-01-04T13:40:25.009725Z"
    }
   },
   "id": "58b226e35b67f538"
  },
  {
   "cell_type": "markdown",
   "source": [
    "#### test code\n",
    "여기서 null 값이 있다면 snippets에 null값이 있었다는 뜻임 -> retrieval gt fetch할때 문제"
   ],
   "metadata": {
    "collapsed": false
   },
   "id": "e98a9e3d276ca4c5"
  },
  {
   "cell_type": "code",
   "execution_count": 102,
   "outputs": [
    {
     "name": "stdout",
     "output_type": "stream",
     "text": [
      "query_id    0\n",
      "snippets    0\n",
      "doc_id      0\n",
      "dtype: int64\n"
     ]
    }
   ],
   "source": [
    "check_isnull_merged_df = merged_df.isnull().sum()\n",
    "print(check_isnull_merged_df)"
   ],
   "metadata": {
    "collapsed": false,
    "ExecuteTime": {
     "end_time": "2024-01-04T13:40:48.696279Z",
     "start_time": "2024-01-04T13:40:48.684868Z"
    }
   },
   "id": "f487969f785315c6"
  },
  {
   "cell_type": "markdown",
   "source": [
    "merge한 다음 groupby해서 corpus 만들기 -> groupby했을때 원본데이터의 shape이랑 같아야함.<br>\n",
    "원본 qa_data와의 shape를 같게 맞춰주기 위해서 query_id를 groupby해서 retrieval_gt리스트들을 만들어줌"
   ],
   "metadata": {
    "collapsed": false
   },
   "id": "bf828aacab1565bb"
  },
  {
   "cell_type": "code",
   "execution_count": 103,
   "outputs": [],
   "source": [
    "create_gt = (merged_df.groupby('query_id', as_index=False).agg({'snippets': lambda x: list(x),\n",
    "                                                                'doc_id': lambda x: list(x)}))\n",
    "\n",
    "for check_null in create_gt['snippets']:\n",
    "    if None in check_null:\n",
    "        raise ValueError(\"There is None in create_gt['snippets']\")\n",
    "for check_null in create_gt['doc_id']:\n",
    "    if None in check_null:\n",
    "        raise ValueError(\"There is None in create_gt['doc_id']\")"
   ],
   "metadata": {
    "collapsed": false,
    "ExecuteTime": {
     "end_time": "2024-01-04T13:41:00.377748Z",
     "start_time": "2024-01-04T13:40:48.777616Z"
    }
   },
   "id": "355e164b8fd111a"
  },
  {
   "cell_type": "markdown",
   "source": [
    "Remove none gt rows because of corpus can't retrieve none gt and removed query in preprocessing process."
   ],
   "metadata": {
    "collapsed": false
   },
   "id": "46f11065a018b2f7"
  },
  {
   "cell_type": "code",
   "execution_count": 104,
   "outputs": [],
   "source": [
    "mask = dataset['query_id'].isin(create_gt['query_id'])\n",
    "dataset = dataset[mask]\n",
    "assert len(create_gt) == len(dataset)  # 원본 qa_data와의 shape를 같게 맞춰주기 위해서 query_id를 groupby해서 retrieval_gt리스트들을 만들어줌"
   ],
   "metadata": {
    "collapsed": false,
    "ExecuteTime": {
     "end_time": "2024-01-04T13:41:00.505681Z",
     "start_time": "2024-01-04T13:41:00.425898Z"
    }
   },
   "id": "3896ad8aaa547398"
  },
  {
   "cell_type": "code",
   "execution_count": 105,
   "outputs": [
    {
     "name": "stdout",
     "output_type": "stream",
     "text": [
      "216747\n",
      "query_id    0\n",
      "snippets    0\n",
      "doc_id      0\n",
      "dtype: int64\n"
     ]
    }
   ],
   "source": [
    "print(len(create_gt))\n",
    "print(create_gt.isnull().sum())"
   ],
   "metadata": {
    "collapsed": false,
    "ExecuteTime": {
     "end_time": "2024-01-04T13:41:00.537238Z",
     "start_time": "2024-01-04T13:41:00.519161Z"
    }
   },
   "id": "d13c485686a8b52a"
  },
  {
   "cell_type": "code",
   "execution_count": 106,
   "outputs": [
    {
     "name": "stdout",
     "output_type": "stream",
     "text": [
      "216747\n",
      "query_id          0\n",
      "question          0\n",
      "answer            0\n",
      "search_results    0\n",
      "dtype: int64\n"
     ]
    }
   ],
   "source": [
    "print(len(dataset))\n",
    "print(dataset.isnull().sum())"
   ],
   "metadata": {
    "collapsed": false,
    "ExecuteTime": {
     "end_time": "2024-01-04T13:41:00.556492Z",
     "start_time": "2024-01-04T13:41:00.537495Z"
    }
   },
   "id": "1701f45c73a932a2"
  },
  {
   "cell_type": "markdown",
   "source": [
    "#### 존내 오래걸리는 test code\n",
    "qa_data의 retrieval gt와 corpus의 doc_id가 매칭이 되는지 확인"
   ],
   "metadata": {
    "collapsed": false
   },
   "id": "47d517971cd1b16d"
  },
  {
   "cell_type": "code",
   "execution_count": 107,
   "outputs": [],
   "source": [
    "# qa_data의 doc_id가 corpus의 doc_id에 있는지 체크 -> 여기서 없으면 이상한게 지금 캐시에 저장이 되었는지 preprcessing과정에서 아래 과정처럼 확인\n",
    "# qa = create_gt['doc_id'].tolist()\n",
    "# \n",
    "# for i in qa:\n",
    "#     for j in i:\n",
    "#         if (complete_corpus['doc_id'] == j).any() == False:\n",
    "#             raise ValueError(f\"doc_id {j} is not in corpus\")"
   ],
   "metadata": {
    "collapsed": false,
    "ExecuteTime": {
     "end_time": "2024-01-04T13:41:00.558901Z",
     "start_time": "2024-01-04T13:41:00.557572Z"
    }
   },
   "id": "149dd20c5937de7"
  },
  {
   "cell_type": "markdown",
   "source": [
    "#### Hakey하게 length만 비교해서 qa_data가 groupby하는 과정에서 doc_id(retrieval gt)가 누락되는것을 확인하는 test 코드"
   ],
   "metadata": {
    "collapsed": false
   },
   "id": "2191562c9f8b16f3"
  },
  {
   "cell_type": "code",
   "execution_count": 108,
   "outputs": [
    {
     "name": "stdout",
     "output_type": "stream",
     "text": [
      "14276991\n",
      "14276991\n",
      "원본 데이터셋: 216747\n"
     ]
    }
   ],
   "source": [
    "test_qa_by_len = create_gt['doc_id']\n",
    "test_qa_by_len = len(test_qa_by_len.explode('doc_id'))\n",
    "print(test_qa_by_len)\n",
    "print(len(merged_df))\n",
    "assert test_qa_by_len == len(merged_df)\n",
    "print(f\"원본 데이터셋: {len(dataset)}\")"
   ],
   "metadata": {
    "collapsed": false,
    "ExecuteTime": {
     "end_time": "2024-01-04T13:41:00.835143Z",
     "start_time": "2024-01-04T13:41:00.560211Z"
    }
   },
   "id": "8a8264316d3a0784"
  },
  {
   "cell_type": "markdown",
   "source": [
    "#### qa_data에 doc_id(gt) concat"
   ],
   "metadata": {
    "collapsed": false
   },
   "id": "f4991db69eb8dd77"
  },
  {
   "cell_type": "markdown",
   "source": [
    "reset index를 해주어야만 concat할때 index때문에 null값이 생기지 않음."
   ],
   "metadata": {
    "collapsed": false
   },
   "id": "8305408dc79f2762"
  },
  {
   "cell_type": "code",
   "execution_count": 109,
   "outputs": [],
   "source": [
    "from sklearn.model_selection import train_test_split\n",
    "create_gt = create_gt.reset_index(drop=True)\n",
    "dataset = dataset.reset_index(drop=True)\n",
    "qa_dataset = pd.concat([dataset, create_gt['doc_id']], axis=1)\n",
    "\n",
    "qa_dataset_train, qa_dataset_test = train_test_split(qa_dataset, test_size=0.2, shuffle=False)"
   ],
   "metadata": {
    "collapsed": false,
    "ExecuteTime": {
     "end_time": "2024-01-04T13:41:01.002026Z",
     "start_time": "2024-01-04T13:41:00.836362Z"
    }
   },
   "id": "839f4f3ae02121e4"
  },
  {
   "cell_type": "code",
   "execution_count": 110,
   "outputs": [
    {
     "data": {
      "text/plain": "Empty DataFrame\nColumns: [query_id, question, answer, search_results, doc_id]\nIndex: []",
      "text/html": "<div>\n<style scoped>\n    .dataframe tbody tr th:only-of-type {\n        vertical-align: middle;\n    }\n\n    .dataframe tbody tr th {\n        vertical-align: top;\n    }\n\n    .dataframe thead th {\n        text-align: right;\n    }\n</style>\n<table border=\"1\" class=\"dataframe\">\n  <thead>\n    <tr style=\"text-align: right;\">\n      <th></th>\n      <th>query_id</th>\n      <th>question</th>\n      <th>answer</th>\n      <th>search_results</th>\n      <th>doc_id</th>\n    </tr>\n  </thead>\n  <tbody>\n  </tbody>\n</table>\n</div>"
     },
     "execution_count": 110,
     "metadata": {},
     "output_type": "execute_result"
    }
   ],
   "source": [
    "qa_dataset[qa_dataset['doc_id'].isnull()]"
   ],
   "metadata": {
    "collapsed": false,
    "ExecuteTime": {
     "end_time": "2024-01-04T13:41:01.011405Z",
     "start_time": "2024-01-04T13:41:01.007454Z"
    }
   },
   "id": "c71e68d7cfd9c41f"
  },
  {
   "cell_type": "code",
   "execution_count": 111,
   "outputs": [
    {
     "name": "stdout",
     "output_type": "stream",
     "text": [
      "query_id          0\n",
      "question          0\n",
      "answer            0\n",
      "search_results    0\n",
      "doc_id            0\n",
      "dtype: int64\n"
     ]
    }
   ],
   "source": [
    "print(qa_dataset.isnull().sum())"
   ],
   "metadata": {
    "collapsed": false,
    "ExecuteTime": {
     "end_time": "2024-01-04T13:41:01.045880Z",
     "start_time": "2024-01-04T13:41:01.033671Z"
    }
   },
   "id": "8db2de97e3752938"
  },
  {
   "cell_type": "markdown",
   "source": [
    "# 최종 오의"
   ],
   "metadata": {
    "collapsed": false
   },
   "id": "9340ec859a95fc48"
  },
  {
   "cell_type": "code",
   "execution_count": 112,
   "outputs": [
    {
     "data": {
      "text/plain": "Pushing dataset shards to the dataset hub:   0%|          | 0/14 [00:00<?, ?it/s]",
      "application/vnd.jupyter.widget-view+json": {
       "version_major": 2,
       "version_minor": 0,
       "model_id": "91e8cdab30994994a2ee34e5528c6ad7"
      }
     },
     "metadata": {},
     "output_type": "display_data"
    },
    {
     "data": {
      "text/plain": "Creating parquet from Arrow format:   0%|          | 0/13 [00:00<?, ?ba/s]",
      "application/vnd.jupyter.widget-view+json": {
       "version_major": 2,
       "version_minor": 0,
       "model_id": "52e5f309bde740cf8b9c38f46b68fd36"
      }
     },
     "metadata": {},
     "output_type": "display_data"
    },
    {
     "data": {
      "text/plain": "Creating parquet from Arrow format:   0%|          | 0/13 [00:00<?, ?ba/s]",
      "application/vnd.jupyter.widget-view+json": {
       "version_major": 2,
       "version_minor": 0,
       "model_id": "9522d30a509543d39e7499eae35182c4"
      }
     },
     "metadata": {},
     "output_type": "display_data"
    },
    {
     "data": {
      "text/plain": "Creating parquet from Arrow format:   0%|          | 0/13 [00:00<?, ?ba/s]",
      "application/vnd.jupyter.widget-view+json": {
       "version_major": 2,
       "version_minor": 0,
       "model_id": "e35424fa50e2477c86c34516c6fefb53"
      }
     },
     "metadata": {},
     "output_type": "display_data"
    },
    {
     "data": {
      "text/plain": "Creating parquet from Arrow format:   0%|          | 0/13 [00:00<?, ?ba/s]",
      "application/vnd.jupyter.widget-view+json": {
       "version_major": 2,
       "version_minor": 0,
       "model_id": "c714ff77ab6c46f9ab692d000d15bbd8"
      }
     },
     "metadata": {},
     "output_type": "display_data"
    },
    {
     "data": {
      "text/plain": "Creating parquet from Arrow format:   0%|          | 0/13 [00:00<?, ?ba/s]",
      "application/vnd.jupyter.widget-view+json": {
       "version_major": 2,
       "version_minor": 0,
       "model_id": "8d65d650596b4f57b4b457b3b1b78c72"
      }
     },
     "metadata": {},
     "output_type": "display_data"
    },
    {
     "data": {
      "text/plain": "Creating parquet from Arrow format:   0%|          | 0/13 [00:00<?, ?ba/s]",
      "application/vnd.jupyter.widget-view+json": {
       "version_major": 2,
       "version_minor": 0,
       "model_id": "2c86d3558c58429f9dd1a7b47037318b"
      }
     },
     "metadata": {},
     "output_type": "display_data"
    },
    {
     "data": {
      "text/plain": "Creating parquet from Arrow format:   0%|          | 0/13 [00:00<?, ?ba/s]",
      "application/vnd.jupyter.widget-view+json": {
       "version_major": 2,
       "version_minor": 0,
       "model_id": "1f115839215e4df4afa5f8fe6dac65f5"
      }
     },
     "metadata": {},
     "output_type": "display_data"
    },
    {
     "data": {
      "text/plain": "Creating parquet from Arrow format:   0%|          | 0/13 [00:00<?, ?ba/s]",
      "application/vnd.jupyter.widget-view+json": {
       "version_major": 2,
       "version_minor": 0,
       "model_id": "f243e7a7140447ecad656908446352c2"
      }
     },
     "metadata": {},
     "output_type": "display_data"
    },
    {
     "data": {
      "text/plain": "Creating parquet from Arrow format:   0%|          | 0/13 [00:00<?, ?ba/s]",
      "application/vnd.jupyter.widget-view+json": {
       "version_major": 2,
       "version_minor": 0,
       "model_id": "7ffb94fea92c41cf96ac47b4772c1f5c"
      }
     },
     "metadata": {},
     "output_type": "display_data"
    },
    {
     "data": {
      "text/plain": "Creating parquet from Arrow format:   0%|          | 0/13 [00:00<?, ?ba/s]",
      "application/vnd.jupyter.widget-view+json": {
       "version_major": 2,
       "version_minor": 0,
       "model_id": "783b261b8f93449d809d531c6b4f66d9"
      }
     },
     "metadata": {},
     "output_type": "display_data"
    },
    {
     "data": {
      "text/plain": "Creating parquet from Arrow format:   0%|          | 0/13 [00:00<?, ?ba/s]",
      "application/vnd.jupyter.widget-view+json": {
       "version_major": 2,
       "version_minor": 0,
       "model_id": "a13addc943b14403b3b13180b288ee9c"
      }
     },
     "metadata": {},
     "output_type": "display_data"
    },
    {
     "data": {
      "text/plain": "Creating parquet from Arrow format:   0%|          | 0/13 [00:00<?, ?ba/s]",
      "application/vnd.jupyter.widget-view+json": {
       "version_major": 2,
       "version_minor": 0,
       "model_id": "b515cb10ca1343ce85960da82dbc246d"
      }
     },
     "metadata": {},
     "output_type": "display_data"
    },
    {
     "data": {
      "text/plain": "Creating parquet from Arrow format:   0%|          | 0/13 [00:00<?, ?ba/s]",
      "application/vnd.jupyter.widget-view+json": {
       "version_major": 2,
       "version_minor": 0,
       "model_id": "96abb1ce576c4b3ea94ea0f2fd71604e"
      }
     },
     "metadata": {},
     "output_type": "display_data"
    },
    {
     "data": {
      "text/plain": "Creating parquet from Arrow format:   0%|          | 0/13 [00:00<?, ?ba/s]",
      "application/vnd.jupyter.widget-view+json": {
       "version_major": 2,
       "version_minor": 0,
       "model_id": "99c9de3d4f214bd98af6b4e10367438a"
      }
     },
     "metadata": {},
     "output_type": "display_data"
    },
    {
     "data": {
      "text/plain": "Downloading metadata:   0%|          | 0.00/25.0 [00:00<?, ?B/s]",
      "application/vnd.jupyter.widget-view+json": {
       "version_major": 2,
       "version_minor": 0,
       "model_id": "72f299df4e1e4b989d2866dd1b884fa7"
      }
     },
     "metadata": {},
     "output_type": "display_data"
    },
    {
     "data": {
      "text/plain": "Pushing dataset shards to the dataset hub:   0%|          | 0/4 [00:00<?, ?it/s]",
      "application/vnd.jupyter.widget-view+json": {
       "version_major": 2,
       "version_minor": 0,
       "model_id": "ae85d735032c47a9880e2f7ee8dbbc8d"
      }
     },
     "metadata": {},
     "output_type": "display_data"
    },
    {
     "data": {
      "text/plain": "Creating parquet from Arrow format:   0%|          | 0/11 [00:00<?, ?ba/s]",
      "application/vnd.jupyter.widget-view+json": {
       "version_major": 2,
       "version_minor": 0,
       "model_id": "00afeedf0c2f446788e245393705c2a7"
      }
     },
     "metadata": {},
     "output_type": "display_data"
    },
    {
     "data": {
      "text/plain": "Creating parquet from Arrow format:   0%|          | 0/11 [00:00<?, ?ba/s]",
      "application/vnd.jupyter.widget-view+json": {
       "version_major": 2,
       "version_minor": 0,
       "model_id": "8187a0d3a1e2411496bd7e2ce56921ba"
      }
     },
     "metadata": {},
     "output_type": "display_data"
    },
    {
     "data": {
      "text/plain": "Creating parquet from Arrow format:   0%|          | 0/11 [00:00<?, ?ba/s]",
      "application/vnd.jupyter.widget-view+json": {
       "version_major": 2,
       "version_minor": 0,
       "model_id": "c2cab715dac44847a0f52121a90bc0ac"
      }
     },
     "metadata": {},
     "output_type": "display_data"
    },
    {
     "data": {
      "text/plain": "Creating parquet from Arrow format:   0%|          | 0/11 [00:00<?, ?ba/s]",
      "application/vnd.jupyter.widget-view+json": {
       "version_major": 2,
       "version_minor": 0,
       "model_id": "328dff11d02c4e109318695104c1047a"
      }
     },
     "metadata": {},
     "output_type": "display_data"
    },
    {
     "data": {
      "text/plain": "Downloading metadata:   0%|          | 0.00/699 [00:00<?, ?B/s]",
      "application/vnd.jupyter.widget-view+json": {
       "version_major": 2,
       "version_minor": 0,
       "model_id": "a8acc76c47714fb3823e0943b5e20a2d"
      }
     },
     "metadata": {},
     "output_type": "display_data"
    },
    {
     "data": {
      "text/plain": "Pushing dataset shards to the dataset hub:   0%|          | 0/13 [00:00<?, ?it/s]",
      "application/vnd.jupyter.widget-view+json": {
       "version_major": 2,
       "version_minor": 0,
       "model_id": "bd9feb0075944254972aeed39a810c39"
      }
     },
     "metadata": {},
     "output_type": "display_data"
    },
    {
     "data": {
      "text/plain": "Creating parquet from Arrow format:   0%|          | 0/1087 [00:00<?, ?ba/s]",
      "application/vnd.jupyter.widget-view+json": {
       "version_major": 2,
       "version_minor": 0,
       "model_id": "6608adbf68404bde9e3f3326ab0f1379"
      }
     },
     "metadata": {},
     "output_type": "display_data"
    },
    {
     "data": {
      "text/plain": "Creating parquet from Arrow format:   0%|          | 0/1087 [00:00<?, ?ba/s]",
      "application/vnd.jupyter.widget-view+json": {
       "version_major": 2,
       "version_minor": 0,
       "model_id": "9b496c02d53e48518a8c4db87cb80c40"
      }
     },
     "metadata": {},
     "output_type": "display_data"
    },
    {
     "data": {
      "text/plain": "Creating parquet from Arrow format:   0%|          | 0/1087 [00:00<?, ?ba/s]",
      "application/vnd.jupyter.widget-view+json": {
       "version_major": 2,
       "version_minor": 0,
       "model_id": "ad796018d6584339aade3da9c78a9799"
      }
     },
     "metadata": {},
     "output_type": "display_data"
    },
    {
     "data": {
      "text/plain": "Creating parquet from Arrow format:   0%|          | 0/1087 [00:00<?, ?ba/s]",
      "application/vnd.jupyter.widget-view+json": {
       "version_major": 2,
       "version_minor": 0,
       "model_id": "c0b68c764a80465aa07348236884c2b0"
      }
     },
     "metadata": {},
     "output_type": "display_data"
    },
    {
     "data": {
      "text/plain": "Creating parquet from Arrow format:   0%|          | 0/1087 [00:00<?, ?ba/s]",
      "application/vnd.jupyter.widget-view+json": {
       "version_major": 2,
       "version_minor": 0,
       "model_id": "707d2ccd0c0847a58234de99fce278b3"
      }
     },
     "metadata": {},
     "output_type": "display_data"
    },
    {
     "data": {
      "text/plain": "Creating parquet from Arrow format:   0%|          | 0/1087 [00:00<?, ?ba/s]",
      "application/vnd.jupyter.widget-view+json": {
       "version_major": 2,
       "version_minor": 0,
       "model_id": "20100c143f7642d9a589f49ca03b8fad"
      }
     },
     "metadata": {},
     "output_type": "display_data"
    },
    {
     "data": {
      "text/plain": "Creating parquet from Arrow format:   0%|          | 0/1087 [00:00<?, ?ba/s]",
      "application/vnd.jupyter.widget-view+json": {
       "version_major": 2,
       "version_minor": 0,
       "model_id": "b18cd32b7439498b9d81355e7804988f"
      }
     },
     "metadata": {},
     "output_type": "display_data"
    },
    {
     "data": {
      "text/plain": "Creating parquet from Arrow format:   0%|          | 0/1087 [00:00<?, ?ba/s]",
      "application/vnd.jupyter.widget-view+json": {
       "version_major": 2,
       "version_minor": 0,
       "model_id": "1a7d17f7619744b6b1e2ff94daa911eb"
      }
     },
     "metadata": {},
     "output_type": "display_data"
    },
    {
     "data": {
      "text/plain": "Creating parquet from Arrow format:   0%|          | 0/1087 [00:00<?, ?ba/s]",
      "application/vnd.jupyter.widget-view+json": {
       "version_major": 2,
       "version_minor": 0,
       "model_id": "1c3c275611f94e88819ca33c9575c31c"
      }
     },
     "metadata": {},
     "output_type": "display_data"
    },
    {
     "data": {
      "text/plain": "Creating parquet from Arrow format:   0%|          | 0/1087 [00:00<?, ?ba/s]",
      "application/vnd.jupyter.widget-view+json": {
       "version_major": 2,
       "version_minor": 0,
       "model_id": "787a569754f5423db0565067a2a0fa66"
      }
     },
     "metadata": {},
     "output_type": "display_data"
    },
    {
     "data": {
      "text/plain": "Creating parquet from Arrow format:   0%|          | 0/1087 [00:00<?, ?ba/s]",
      "application/vnd.jupyter.widget-view+json": {
       "version_major": 2,
       "version_minor": 0,
       "model_id": "2bc8b8e027aa4d8893451f364996bda9"
      }
     },
     "metadata": {},
     "output_type": "display_data"
    },
    {
     "data": {
      "text/plain": "Creating parquet from Arrow format:   0%|          | 0/1087 [00:00<?, ?ba/s]",
      "application/vnd.jupyter.widget-view+json": {
       "version_major": 2,
       "version_minor": 0,
       "model_id": "c3d861fbb4924f5692c2cc751ff2149a"
      }
     },
     "metadata": {},
     "output_type": "display_data"
    },
    {
     "data": {
      "text/plain": "Creating parquet from Arrow format:   0%|          | 0/1087 [00:00<?, ?ba/s]",
      "application/vnd.jupyter.widget-view+json": {
       "version_major": 2,
       "version_minor": 0,
       "model_id": "2127edbe9cae4ec891a0ccc26dc44b60"
      }
     },
     "metadata": {},
     "output_type": "display_data"
    },
    {
     "data": {
      "text/plain": "Downloading metadata:   0%|          | 0.00/805 [00:00<?, ?B/s]",
      "application/vnd.jupyter.widget-view+json": {
       "version_major": 2,
       "version_minor": 0,
       "model_id": "f12f1f0ac6db444db2aa95fa95a14bc5"
      }
     },
     "metadata": {},
     "output_type": "display_data"
    }
   ],
   "source": [
    "qa_dataset_train = Dataset.from_pandas(qa_dataset_train)\n",
    "qa_dataset_test = Dataset.from_pandas(qa_dataset_test)\n",
    "complete_corpus = Dataset.from_pandas(complete_corpus)\n",
    "\n",
    "qa_dataset_train.push_to_hub(\"NomaDamas/split_search_qa\", 'qa_data', split='train')\n",
    "qa_dataset_test.push_to_hub(\"NomaDamas/split_search_qa\", 'qa_data', split='test')\n",
    "complete_corpus.push_to_hub(\"NomaDamas/split_search_qa\", 'corpus')"
   ],
   "metadata": {
    "collapsed": false,
    "ExecuteTime": {
     "end_time": "2024-01-04T13:50:45.661063Z",
     "start_time": "2024-01-04T13:41:01.040050Z"
    }
   },
   "id": "9ea7899bee303768"
  }
 ],
 "metadata": {
  "kernelspec": {
   "display_name": "Python 3",
   "language": "python",
   "name": "python3"
  },
  "language_info": {
   "codemirror_mode": {
    "name": "ipython",
    "version": 2
   },
   "file_extension": ".py",
   "mimetype": "text/x-python",
   "name": "python",
   "nbconvert_exporter": "python",
   "pygments_lexer": "ipython2",
   "version": "2.7.6"
  }
 },
 "nbformat": 4,
 "nbformat_minor": 5
}
