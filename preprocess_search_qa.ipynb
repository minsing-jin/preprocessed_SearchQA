{
 "cells": [
  {
   "cell_type": "code",
   "execution_count": 174,
   "id": "initial_id",
   "metadata": {
    "collapsed": true,
    "ExecuteTime": {
     "end_time": "2024-01-03T13:52:10.271647Z",
     "start_time": "2024-01-03T13:52:10.170441Z"
    }
   },
   "outputs": [],
   "source": [
    "import pandas as pd\n",
    "from datasets import load_dataset, Dataset\n",
    "import uuid\n",
    "from copy import deepcopy"
   ]
  },
  {
   "cell_type": "code",
   "execution_count": 175,
   "outputs": [],
   "source": [
    "file_path = \"search_qa\"\n",
    "dataset = load_dataset(file_path, 'raw_jeopardy')['train'].to_pandas()\n",
    "dataset['value'] = dataset['value'].fillna('$0')\n",
    "dataset = dataset.dropna()\n",
    "metadata = dataset[['air_date', 'category', 'value', 'round', 'show_number']]\n",
    "dataset = dataset.drop(['air_date', 'category', 'value', 'round', 'show_number'], axis=1)"
   ],
   "metadata": {
    "collapsed": false,
    "ExecuteTime": {
     "end_time": "2024-01-03T13:53:33.335088Z",
     "start_time": "2024-01-03T13:52:10.175352Z"
    }
   },
   "id": "8dc32154f347d3b4"
  },
  {
   "cell_type": "markdown",
   "source": [
    "## dataset에 query_id 추가"
   ],
   "metadata": {
    "collapsed": false
   },
   "id": "9bdd6731f3a8d411"
  },
  {
   "cell_type": "code",
   "execution_count": 176,
   "outputs": [],
   "source": [
    "dataset = pd.Series([str(uuid.uuid4()) for _ in range(len(dataset))], name='query_id').to_frame().join(dataset)"
   ],
   "metadata": {
    "collapsed": false,
    "ExecuteTime": {
     "end_time": "2024-01-03T13:53:33.975845Z",
     "start_time": "2024-01-03T13:53:33.332751Z"
    }
   },
   "id": "8c85f17657002a14"
  },
  {
   "cell_type": "markdown",
   "source": [
    "## preprocessing corpus\n",
    "task: retrieval gt를 만들기 위한 corpus(metadata가 없음)와 ingestion을 위한 corpus(metadata가 있음)를 만들어야함"
   ],
   "metadata": {
    "collapsed": false
   },
   "id": "f10d10cb526951fd"
  },
  {
   "cell_type": "code",
   "execution_count": 177,
   "outputs": [],
   "source": [
    "corpus = dataset['search_results'].apply(pd.Series)\n",
    "corpus = corpus.drop(['related_links', 'titles', 'urls'], axis=1)"
   ],
   "metadata": {
    "collapsed": false,
    "ExecuteTime": {
     "end_time": "2024-01-03T13:53:55.374600Z",
     "start_time": "2024-01-03T13:53:33.975995Z"
    }
   },
   "id": "c645c7ceb9927086"
  },
  {
   "cell_type": "markdown",
   "source": [
    "1. query하나당 똑같은 snippet이 나오지 체크\n",
    "2. 동일 쿼리 안에 중복되는 snippet 제거"
   ],
   "metadata": {
    "collapsed": false
   },
   "id": "f540215074986e74"
  },
  {
   "cell_type": "code",
   "execution_count": 178,
   "outputs": [],
   "source": [
    "corpus['snippets'] = corpus['snippets'].apply(lambda x: list(set(x.tolist())))"
   ],
   "metadata": {
    "collapsed": false,
    "ExecuteTime": {
     "end_time": "2024-01-03T13:54:00.346334Z",
     "start_time": "2024-01-03T13:53:55.412700Z"
    }
   },
   "id": "7e8c531c7321b64d"
  },
  {
   "cell_type": "markdown",
   "source": [
    "#### test code\n",
    "중복 snippet이 있는지 체크해주는 test코드"
   ],
   "metadata": {
    "collapsed": false
   },
   "id": "3710fcad021f98a3"
  },
  {
   "cell_type": "code",
   "execution_count": 179,
   "outputs": [],
   "source": [
    "for i in corpus['snippets']:\n",
    "    test = set(i)\n",
    "    if len(test) != len(i):\n",
    "        raise ValueError(\"There is same snippets in corpus['snippets']\")"
   ],
   "metadata": {
    "collapsed": false,
    "ExecuteTime": {
     "end_time": "2024-01-03T13:54:01.033877Z",
     "start_time": "2024-01-03T13:54:00.369940Z"
    }
   },
   "id": "a81748fe43654e55"
  },
  {
   "cell_type": "markdown",
   "source": [
    "corpus를 metadata와 분리 어차피 그룹바이하고나서 meta_data는 붙여바로면 됌<br>\n",
    "corpus는 query_id/snippet/air_date/category/value/round/show_number형태임"
   ],
   "metadata": {
    "collapsed": false
   },
   "id": "d9b9e3ebf4a42ff5"
  },
  {
   "cell_type": "code",
   "execution_count": 180,
   "outputs": [],
   "source": [
    "corpus = pd.concat([dataset['query_id'], corpus, metadata], axis=1)  # metadata 있는 corpus용 corpus"
   ],
   "metadata": {
    "collapsed": false,
    "ExecuteTime": {
     "end_time": "2024-01-03T13:54:01.051001Z",
     "start_time": "2024-01-03T13:54:01.034661Z"
    }
   },
   "id": "e84ca7faa6739eda"
  },
  {
   "cell_type": "markdown",
   "source": [
    "#### test code\n",
    "corpus가 null값이 있는지 체크"
   ],
   "metadata": {
    "collapsed": false
   },
   "id": "9dd40a647ebebd"
  },
  {
   "cell_type": "code",
   "execution_count": 181,
   "outputs": [
    {
     "name": "stdout",
     "output_type": "stream",
     "text": [
      "query_id       0\n",
      "snippets       0\n",
      "air_date       0\n",
      "category       0\n",
      "value          0\n",
      "round          0\n",
      "show_number    0\n",
      "dtype: int64\n"
     ]
    }
   ],
   "source": [
    "check_corpus_isnull = corpus.isnull().sum()\n",
    "print(check_corpus_isnull)\n",
    "# assert check_corpus_isnull['snippets'] == 0  # corpus에 null값이 있는지 확인(특히 snippets에 null값이 있는지 확인)"
   ],
   "metadata": {
    "collapsed": false,
    "ExecuteTime": {
     "end_time": "2024-01-03T13:54:01.076722Z",
     "start_time": "2024-01-03T13:54:01.051438Z"
    }
   },
   "id": "830c249cb515168b"
  },
  {
   "cell_type": "markdown",
   "source": [
    "결과:<br>\n",
    "모두 null값 없음"
   ],
   "metadata": {
    "collapsed": false
   },
   "id": "b9bff06dc55ebf6a"
  },
  {
   "cell_type": "markdown",
   "source": [
    "## explode해서 flatten함.\n",
    "#### test code"
   ],
   "metadata": {
    "collapsed": false
   },
   "id": "2cdad3a8e0c9e9f3"
  },
  {
   "cell_type": "code",
   "execution_count": 182,
   "outputs": [],
   "source": [
    "for_checking_lost_snippets = 0\n",
    "for i in corpus['snippets']:\n",
    "    for_checking_lost_snippets += len(i)\n",
    "    # if None in i:\n",
    "    #     raise ValueError(\"There is None in corpus['snippets']\")\n",
    "    # TODO: 이것을 확인하기 위해서 corpus의 query_id와 원본 query_id를 비교해보자 실험"
   ],
   "metadata": {
    "collapsed": false,
    "ExecuteTime": {
     "end_time": "2024-01-03T13:54:01.329126Z",
     "start_time": "2024-01-03T13:54:01.100977Z"
    }
   },
   "id": "5a29e07efd3e85fd"
  },
  {
   "cell_type": "markdown",
   "source": [
    "정보:\n",
    "- snippet 자체에서 null값이 있는것을 확인했음\n",
    "- 한 query안에 모두 null이라 query 자체가 날라가는것도 있음"
   ],
   "metadata": {
    "collapsed": false
   },
   "id": "7266e8820457f250"
  },
  {
   "cell_type": "code",
   "execution_count": 183,
   "outputs": [],
   "source": [
    "corpus = corpus.explode(['snippets']).reset_index(drop=True)"
   ],
   "metadata": {
    "collapsed": false,
    "ExecuteTime": {
     "end_time": "2024-01-03T13:54:08.623447Z",
     "start_time": "2024-01-03T13:54:01.103498Z"
    }
   },
   "id": "45f85f821fe766fa"
  },
  {
   "cell_type": "markdown",
   "source": [
    "#### test code"
   ],
   "metadata": {
    "collapsed": false
   },
   "id": "45be7a3c2756b64b"
  },
  {
   "cell_type": "code",
   "execution_count": 184,
   "outputs": [
    {
     "name": "stdout",
     "output_type": "stream",
     "text": [
      "explode해서 생긴 null값 체크 : query_id            0\n",
      "snippets       116988\n",
      "air_date            0\n",
      "category            0\n",
      "value               0\n",
      "round               0\n",
      "show_number         0\n",
      "dtype: int64\n"
     ]
    }
   ],
   "source": [
    "# Check if snippet are lost or not.\n",
    "assert len(corpus) == for_checking_lost_snippets\n",
    "\n",
    "check_explode_corpus_isnull = corpus.isnull().sum() \n",
    "print(f\"explode해서 생긴 null값 체크 : {check_explode_corpus_isnull}\")# corpus에 null값이 있는지 확인(특히 snippets에 null값이 있는지 확인)\n",
    "# assert check_explod_corpus_isnull['snippets'] == 0  # corpus에 null값이 있는지 확인(특히 snippets에 null값이 있는지 확인)\n",
    "\n",
    "# TODO: explode가 문제인것을 확인 -> 그렇다면 원래 snippets이 null값이었던것인가? -> 원래 snippet이 여러개였던 녀석 존나 많음\n",
    "\n",
    "# TODO: dropna가 문제인지 체크하기 위해서 따로 빼놓음\n",
    "corpus = corpus.dropna()"
   ],
   "metadata": {
    "collapsed": false,
    "ExecuteTime": {
     "end_time": "2024-01-03T13:54:17.998185Z",
     "start_time": "2024-01-03T13:54:08.621788Z"
    }
   },
   "id": "40bca6cc3573fb2a"
  },
  {
   "cell_type": "markdown",
   "source": [
    "## dupliacte corpus 제거"
   ],
   "metadata": {
    "collapsed": false
   },
   "id": "58aa71d5ebe25005"
  },
  {
   "cell_type": "code",
   "execution_count": 185,
   "outputs": [],
   "source": [
    "gt_corpus = corpus.drop(['air_date', 'category', 'value', 'round', 'show_number'], axis=1)  # gt를 만들기 위한 corpus\n",
    "copy_corpus = deepcopy(corpus)\n",
    "copy_corpus = copy_corpus.dropna()"
   ],
   "metadata": {
    "collapsed": false,
    "ExecuteTime": {
     "end_time": "2024-01-03T13:54:27.095855Z",
     "start_time": "2024-01-03T13:54:17.999465Z"
    }
   },
   "id": "f34b88c4f4fff40e"
  },
  {
   "cell_type": "markdown",
   "source": [
    "#### test code\n",
    "duplicate snippet이 merge할때 null이 생기는것과 동일한가?"
   ],
   "metadata": {
    "collapsed": false
   },
   "id": "c0a4652d23316f24"
  },
  {
   "cell_type": "code",
   "execution_count": 186,
   "outputs": [
    {
     "name": "stdout",
     "output_type": "stream",
     "text": [
      "160754\n"
     ]
    }
   ],
   "source": [
    "check_isduplicate_before_drop_duplicates = copy_corpus['snippets'].duplicated().sum()\n",
    "print(check_isduplicate_before_drop_duplicates)"
   ],
   "metadata": {
    "collapsed": false,
    "ExecuteTime": {
     "end_time": "2024-01-03T13:54:31.712014Z",
     "start_time": "2024-01-03T13:54:31.702451Z"
    }
   },
   "id": "c9eb0924c95d1bc1"
  },
  {
   "cell_type": "markdown",
   "source": [],
   "metadata": {
    "collapsed": false
   },
   "id": "6f7be6bc255f9a67"
  },
  {
   "cell_type": "code",
   "execution_count": 187,
   "outputs": [],
   "source": [
    "copy_corpus = copy_corpus.drop_duplicates(subset='snippets', keep='first')"
   ],
   "metadata": {
    "collapsed": false,
    "ExecuteTime": {
     "end_time": "2024-01-03T13:54:38.436160Z",
     "start_time": "2024-01-03T13:54:36.907906Z"
    }
   },
   "id": "bd2667ca4a6f08a7"
  },
  {
   "cell_type": "markdown",
   "source": [
    "#### test code\n",
    "corpus에 null값이 있는지 확인(특히 snippets에 null값이 있는지 확인)"
   ],
   "metadata": {
    "collapsed": false
   },
   "id": "cec14ff47e7f8660"
  },
  {
   "cell_type": "code",
   "execution_count": 188,
   "outputs": [
    {
     "name": "stdout",
     "output_type": "stream",
     "text": [
      "query_id       0\n",
      "snippets       0\n",
      "air_date       0\n",
      "category       0\n",
      "value          0\n",
      "round          0\n",
      "show_number    0\n",
      "dtype: int64\n"
     ]
    }
   ],
   "source": [
    "check_isnull_after_drop_duplicates = copy_corpus.isnull().sum()\n",
    "print(check_isnull_after_drop_duplicates)# 중복된 snippet은 제거된 상태, 즉 순수한 corpus 추출\n",
    "assert check_isnull_after_drop_duplicates['snippets'] == 0  # corpus에 null값이 있는지 확인(특히 snippets에 null값이 있는지 확인)"
   ],
   "metadata": {
    "collapsed": false,
    "ExecuteTime": {
     "end_time": "2024-01-03T13:54:40.248037Z",
     "start_time": "2024-01-03T13:54:38.435849Z"
    }
   },
   "id": "1f67aeead4d019de"
  },
  {
   "cell_type": "markdown",
   "source": [
    "#### test code\n",
    "여기서 snippet 외의 none값이 발생되어서 원래 있어야할 snippet과 doc_id가 사라져 매칭이 안되는 억까 ->"
   ],
   "metadata": {
    "collapsed": false
   },
   "id": "a9f736ff8c71a66f"
  },
  {
   "cell_type": "code",
   "execution_count": 189,
   "outputs": [],
   "source": [
    "check_isnull_after_drop_duplicates = copy_corpus.isnull().sum()  # 중복된 snippet은 제거된 상태, 즉 순수한 corpus 추출\n",
    "assert check_isnull_after_drop_duplicates['snippets'] == 0  # corpus에 null값이 있는지 확인(특히 snippets에 null값이 있는지 확인)"
   ],
   "metadata": {
    "collapsed": false,
    "ExecuteTime": {
     "end_time": "2024-01-03T13:54:42.024537Z",
     "start_time": "2024-01-03T13:54:40.244369Z"
    }
   },
   "id": "73c173c31f99918a"
  },
  {
   "cell_type": "code",
   "execution_count": 190,
   "outputs": [],
   "source": [
    "copy_corpus = copy_corpus.dropna()"
   ],
   "metadata": {
    "collapsed": false,
    "ExecuteTime": {
     "end_time": "2024-01-03T13:54:45.193592Z",
     "start_time": "2024-01-03T13:54:42.025734Z"
    }
   },
   "id": "efb2ca8de935b9be"
  },
  {
   "cell_type": "markdown",
   "source": [
    "중복된 snippet은 제거된 상태, 즉 순수한 corpus 추출, doc_id생성"
   ],
   "metadata": {
    "collapsed": false
   },
   "id": "96d2949a73790a42"
  },
  {
   "cell_type": "markdown",
   "source": [
    "# Doc id 부여"
   ],
   "metadata": {
    "collapsed": false
   },
   "id": "3e19d304f5eec7d4"
  },
  {
   "cell_type": "code",
   "execution_count": 191,
   "outputs": [],
   "source": [
    "def __make_doc_id(row):\n",
    "    return str(uuid.uuid4())"
   ],
   "metadata": {
    "collapsed": false,
    "ExecuteTime": {
     "end_time": "2024-01-03T13:54:45.201174Z",
     "start_time": "2024-01-03T13:54:45.193881Z"
    }
   },
   "id": "2ec1d99610232056"
  },
  {
   "cell_type": "code",
   "execution_count": 192,
   "outputs": [
    {
     "data": {
      "text/plain": "                                  query_id snippets    air_date  \\\n4954  aa6c6277-d923-4c6a-8ac8-86e0237b6900           2010-07-06   \n\n               category value      round  show_number  \n4954  RHYMES WITH SMART  $200  Jeopardy!         5957  ",
      "text/html": "<div>\n<style scoped>\n    .dataframe tbody tr th:only-of-type {\n        vertical-align: middle;\n    }\n\n    .dataframe tbody tr th {\n        vertical-align: top;\n    }\n\n    .dataframe thead th {\n        text-align: right;\n    }\n</style>\n<table border=\"1\" class=\"dataframe\">\n  <thead>\n    <tr style=\"text-align: right;\">\n      <th></th>\n      <th>query_id</th>\n      <th>snippets</th>\n      <th>air_date</th>\n      <th>category</th>\n      <th>value</th>\n      <th>round</th>\n      <th>show_number</th>\n    </tr>\n  </thead>\n  <tbody>\n    <tr>\n      <th>4954</th>\n      <td>aa6c6277-d923-4c6a-8ac8-86e0237b6900</td>\n      <td></td>\n      <td>2010-07-06</td>\n      <td>RHYMES WITH SMART</td>\n      <td>$200</td>\n      <td>Jeopardy!</td>\n      <td>5957</td>\n    </tr>\n  </tbody>\n</table>\n</div>"
     },
     "execution_count": 192,
     "metadata": {},
     "output_type": "execute_result"
    }
   ],
   "source": [
    "copy_corpus[copy_corpus.snippets == '']"
   ],
   "metadata": {
    "collapsed": false,
    "ExecuteTime": {
     "end_time": "2024-01-03T13:54:46.088028Z",
     "start_time": "2024-01-03T13:54:46.079632Z"
    }
   },
   "id": "c3c389d93ecc988b"
  },
  {
   "cell_type": "code",
   "execution_count": 193,
   "outputs": [
    {
     "data": {
      "text/plain": "                                     query_id snippets    air_date  \\\n6153700  565ff775-f032-4342-bc39-2f4a7f911581           2005-11-23   \n\n                           category  value             round  show_number  \n6153700  BEST FOREIGN LANGUAGE FILM  $1600  Double Jeopardy!         4878  ",
      "text/html": "<div>\n<style scoped>\n    .dataframe tbody tr th:only-of-type {\n        vertical-align: middle;\n    }\n\n    .dataframe tbody tr th {\n        vertical-align: top;\n    }\n\n    .dataframe thead th {\n        text-align: right;\n    }\n</style>\n<table border=\"1\" class=\"dataframe\">\n  <thead>\n    <tr style=\"text-align: right;\">\n      <th></th>\n      <th>query_id</th>\n      <th>snippets</th>\n      <th>air_date</th>\n      <th>category</th>\n      <th>value</th>\n      <th>round</th>\n      <th>show_number</th>\n    </tr>\n  </thead>\n  <tbody>\n    <tr>\n      <th>6153700</th>\n      <td>565ff775-f032-4342-bc39-2f4a7f911581</td>\n      <td></td>\n      <td>2005-11-23</td>\n      <td>BEST FOREIGN LANGUAGE FILM</td>\n      <td>$1600</td>\n      <td>Double Jeopardy!</td>\n      <td>4878</td>\n    </tr>\n  </tbody>\n</table>\n</div>"
     },
     "execution_count": 193,
     "metadata": {},
     "output_type": "execute_result"
    }
   ],
   "source": [
    "copy_corpus[copy_corpus.snippets == ' ']"
   ],
   "metadata": {
    "collapsed": false,
    "ExecuteTime": {
     "end_time": "2024-01-03T13:54:46.915831Z",
     "start_time": "2024-01-03T13:54:46.906086Z"
    }
   },
   "id": "cb8ec33e16352d01"
  },
  {
   "cell_type": "code",
   "execution_count": 194,
   "outputs": [],
   "source": [
    "# 빈칸으로 들어가있는 예상치 못했던 ㅈ같은 snippet들 제거\n",
    "before = len(copy_corpus)\n",
    "copy_corpus = copy_corpus[~(copy_corpus.snippets == ' ')]\n",
    "copy_corpus = copy_corpus[~(copy_corpus.snippets == '')]\n",
    "after = len(copy_corpus)\n",
    "assert before - after == 2"
   ],
   "metadata": {
    "collapsed": false,
    "ExecuteTime": {
     "end_time": "2024-01-03T13:54:51.065368Z",
     "start_time": "2024-01-03T13:54:47.730642Z"
    }
   },
   "id": "f5fa8dd978f523dc"
  },
  {
   "cell_type": "code",
   "execution_count": 195,
   "outputs": [],
   "source": [
    "copy_corpus['doc_id'] = copy_corpus.apply(__make_doc_id, axis=1)\n",
    "complete_corpus = deepcopy(copy_corpus)  # corpus로 hugging에 push할것(query_id/snippet/air_date/category/value/round/show_number/doc_id)"
   ],
   "metadata": {
    "collapsed": false,
    "ExecuteTime": {
     "end_time": "2024-01-03T13:56:00.834307Z",
     "start_time": "2024-01-03T13:54:51.274587Z"
    }
   },
   "id": "471f3e2594216c6b"
  },
  {
   "cell_type": "markdown",
   "source": [
    "순수한 copy_corpus를 가지고 gt를 만들기 위해 원본 corpus를 이용해서 query_id를 매칭시켜 gt를 부여"
   ],
   "metadata": {
    "collapsed": false
   },
   "id": "864c5912232ea020"
  },
  {
   "cell_type": "code",
   "execution_count": 196,
   "outputs": [],
   "source": [
    "gt_copy_corpus = copy_corpus.drop(['air_'\n",
    "                                   'date', 'category', 'value', 'round', 'show_number'], axis=1)"
   ],
   "metadata": {
    "collapsed": false,
    "ExecuteTime": {
     "end_time": "2024-01-03T13:56:01.974116Z",
     "start_time": "2024-01-03T13:56:00.833098Z"
    }
   },
   "id": "8cf54870e386c927"
  },
  {
   "cell_type": "code",
   "execution_count": 197,
   "outputs": [
    {
     "name": "stdout",
     "output_type": "stream",
     "text": [
      "query_id    0\n",
      "snippets    0\n",
      "doc_id      0\n",
      "dtype: int64\n"
     ]
    }
   ],
   "source": [
    "check_isnull_merged_df = gt_copy_corpus.isnull().sum()\n",
    "print(check_isnull_merged_df)"
   ],
   "metadata": {
    "collapsed": false,
    "ExecuteTime": {
     "end_time": "2024-01-03T13:56:03.152768Z",
     "start_time": "2024-01-03T13:56:03.136955Z"
    }
   },
   "id": "680ddbc854a2f15"
  },
  {
   "cell_type": "markdown",
   "source": [
    "## Merge해서 qa_data의 retrieval gt 만들기"
   ],
   "metadata": {
    "collapsed": false
   },
   "id": "ae44026f31e8ec53"
  },
  {
   "cell_type": "code",
   "execution_count": 198,
   "outputs": [],
   "source": [
    "merged_df = gt_corpus.merge(gt_copy_corpus, on='snippets', how='inner').drop(['query_id_y'], axis=1).rename(\n",
    "    columns={'query_id_x': 'query_id'})"
   ],
   "metadata": {
    "collapsed": false,
    "ExecuteTime": {
     "end_time": "2024-01-03T13:56:22.380166Z",
     "start_time": "2024-01-03T13:56:03.151112Z"
    }
   },
   "id": "58b226e35b67f538"
  },
  {
   "cell_type": "markdown",
   "source": [
    "#### test code\n",
    "여기서 null 값이 있다면 snippets에 null값이 있었다는 뜻임 -> retrieval gt fetch할때 문제"
   ],
   "metadata": {
    "collapsed": false
   },
   "id": "e98a9e3d276ca4c5"
  },
  {
   "cell_type": "code",
   "execution_count": 199,
   "outputs": [
    {
     "name": "stdout",
     "output_type": "stream",
     "text": [
      "query_id    0\n",
      "snippets    0\n",
      "doc_id      0\n",
      "dtype: int64\n"
     ]
    }
   ],
   "source": [
    "check_isnull_merged_df = merged_df.isnull().sum()\n",
    "print(check_isnull_merged_df)"
   ],
   "metadata": {
    "collapsed": false,
    "ExecuteTime": {
     "end_time": "2024-01-03T13:56:23.944772Z",
     "start_time": "2024-01-03T13:56:23.932497Z"
    }
   },
   "id": "f487969f785315c6"
  },
  {
   "cell_type": "markdown",
   "source": [
    "merge한 다음 groupby해서 corpus 만들기 -> groupby했을때 원본데이터의 shape이랑 같아야함.<br>\n",
    "원본 qa_data와의 shape를 같게 맞춰주기 위해서 query_id를 groupby해서 retrieval_gt리스트들을 만들어줌"
   ],
   "metadata": {
    "collapsed": false
   },
   "id": "bf828aacab1565bb"
  },
  {
   "cell_type": "code",
   "execution_count": 200,
   "outputs": [],
   "source": [
    "create_gt = (merged_df.groupby('query_id', as_index=False).agg({'snippets': lambda x: list(x),\n",
    "                                                                'doc_id': lambda x: list(x)}))\n",
    "\n",
    "for check_null in create_gt['snippets']:\n",
    "    if None in check_null:\n",
    "        raise ValueError(\"There is None in create_gt['snippets']\")\n",
    "for check_null in create_gt['doc_id']:\n",
    "    if None in check_null:\n",
    "        raise ValueError(\"There is None in create_gt['doc_id']\")"
   ],
   "metadata": {
    "collapsed": false,
    "ExecuteTime": {
     "end_time": "2024-01-03T13:56:33.223236Z",
     "start_time": "2024-01-03T13:56:24.012953Z"
    }
   },
   "id": "355e164b8fd111a"
  },
  {
   "cell_type": "markdown",
   "source": [
    "Remove none gt rows because of corpus can't retrieve none gt and removed query in preprocessing process."
   ],
   "metadata": {
    "collapsed": false
   },
   "id": "46f11065a018b2f7"
  },
  {
   "cell_type": "code",
   "execution_count": 201,
   "outputs": [],
   "source": [
    "mask = dataset['query_id'].isin(create_gt['query_id'])\n",
    "dataset = dataset[mask]\n",
    "assert len(create_gt) == len(dataset)  # 원본 qa_data와의 shape를 같게 맞춰주기 위해서 query_id를 groupby해서 retrieval_gt리스트들을 만들어줌"
   ],
   "metadata": {
    "collapsed": false,
    "ExecuteTime": {
     "end_time": "2024-01-03T13:56:33.330060Z",
     "start_time": "2024-01-03T13:56:33.266335Z"
    }
   },
   "id": "3896ad8aaa547398"
  },
  {
   "cell_type": "markdown",
   "source": [
    "#### 존내 오래걸리는 test code\n",
    "qa_data의 retrieval gt와 corpus의 doc_id가 매칭이 되는지 확인"
   ],
   "metadata": {
    "collapsed": false
   },
   "id": "47d517971cd1b16d"
  },
  {
   "cell_type": "code",
   "execution_count": 202,
   "outputs": [],
   "source": [
    "# qa_data의 doc_id가 corpus의 doc_id에 있는지 체크 -> 여기서 없으면 이상한게 지금 캐시에 저장이 되었는지 preprcessing과정에서 아래 과정처럼 확인\n",
    "# qa = create_gt['doc_id'].tolist()\n",
    "# \n",
    "# for i in qa:\n",
    "#     for j in i:\n",
    "#         if (complete_corpus['doc_id'] == j).any() == False:\n",
    "#             raise ValueError(f\"doc_id {j} is not in corpus\")"
   ],
   "metadata": {
    "collapsed": false,
    "ExecuteTime": {
     "end_time": "2024-01-03T13:56:33.336355Z",
     "start_time": "2024-01-03T13:56:33.334188Z"
    }
   },
   "id": "149dd20c5937de7"
  },
  {
   "cell_type": "markdown",
   "source": [
    "#### Hakey하게 length만 비교해서 qa_data가 groupby하는 과정에서 doc_id(retrieval gt)가 누락되는것을 확인하는 test 코드"
   ],
   "metadata": {
    "collapsed": false
   },
   "id": "2191562c9f8b16f3"
  },
  {
   "cell_type": "code",
   "execution_count": 203,
   "outputs": [
    {
     "name": "stdout",
     "output_type": "stream",
     "text": [
      "14276991\n",
      "14276991\n"
     ]
    }
   ],
   "source": [
    "test_qa_by_len = create_gt['doc_id']\n",
    "test_qa_by_len = len(test_qa_by_len.explode('doc_id'))\n",
    "print(test_qa_by_len)\n",
    "print(len(merged_df))\n",
    "assert test_qa_by_len == len(merged_df)"
   ],
   "metadata": {
    "collapsed": false,
    "ExecuteTime": {
     "end_time": "2024-01-03T13:56:33.602291Z",
     "start_time": "2024-01-03T13:56:33.339411Z"
    }
   },
   "id": "8a8264316d3a0784"
  },
  {
   "cell_type": "markdown",
   "source": [
    "#### qa_data에 doc_id(gt) concat"
   ],
   "metadata": {
    "collapsed": false
   },
   "id": "f4991db69eb8dd77"
  },
  {
   "cell_type": "code",
   "execution_count": 204,
   "outputs": [],
   "source": [
    "from sklearn.model_selection import train_test_split\n",
    "qa_dataset = pd.concat([dataset, create_gt['doc_id']], axis=1).rename(columns={'doc_id': 'retrieval_gt'})\n",
    "\n",
    "check_qadata_isnull = qa_dataset.isnull().sum()  # qa_dataset에 null값이 있는지 확인\n",
    "\n",
    "qa_dataset_train, qa_dataset_test = train_test_split(qa_dataset, test_size=0.2, shuffle=False)"
   ],
   "metadata": {
    "collapsed": false,
    "ExecuteTime": {
     "end_time": "2024-01-03T13:56:34.308565Z",
     "start_time": "2024-01-03T13:56:33.602680Z"
    }
   },
   "id": "839f4f3ae02121e4"
  },
  {
   "cell_type": "markdown",
   "source": [
    "# 최종 오의"
   ],
   "metadata": {
    "collapsed": false
   },
   "id": "9340ec859a95fc48"
  },
  {
   "cell_type": "code",
   "execution_count": 205,
   "outputs": [
    {
     "data": {
      "text/plain": "Pushing dataset shards to the dataset hub:   0%|          | 0/14 [00:00<?, ?it/s]",
      "application/vnd.jupyter.widget-view+json": {
       "version_major": 2,
       "version_minor": 0,
       "model_id": "b2c11f862f9d4ed981fe78a6a1a05473"
      }
     },
     "metadata": {},
     "output_type": "display_data"
    },
    {
     "data": {
      "text/plain": "Creating parquet from Arrow format:   0%|          | 0/13 [00:00<?, ?ba/s]",
      "application/vnd.jupyter.widget-view+json": {
       "version_major": 2,
       "version_minor": 0,
       "model_id": "47d01093d63047c2a2aa75455eb9f234"
      }
     },
     "metadata": {},
     "output_type": "display_data"
    },
    {
     "data": {
      "text/plain": "Creating parquet from Arrow format:   0%|          | 0/13 [00:00<?, ?ba/s]",
      "application/vnd.jupyter.widget-view+json": {
       "version_major": 2,
       "version_minor": 0,
       "model_id": "71f5c75053fa475f856165dac9732653"
      }
     },
     "metadata": {},
     "output_type": "display_data"
    },
    {
     "data": {
      "text/plain": "Creating parquet from Arrow format:   0%|          | 0/13 [00:00<?, ?ba/s]",
      "application/vnd.jupyter.widget-view+json": {
       "version_major": 2,
       "version_minor": 0,
       "model_id": "29721cfde2da4f55ba389f9032f652e7"
      }
     },
     "metadata": {},
     "output_type": "display_data"
    },
    {
     "data": {
      "text/plain": "Creating parquet from Arrow format:   0%|          | 0/13 [00:00<?, ?ba/s]",
      "application/vnd.jupyter.widget-view+json": {
       "version_major": 2,
       "version_minor": 0,
       "model_id": "de43dee0780c461ea23544fa5c0c8e2b"
      }
     },
     "metadata": {},
     "output_type": "display_data"
    },
    {
     "data": {
      "text/plain": "Creating parquet from Arrow format:   0%|          | 0/13 [00:00<?, ?ba/s]",
      "application/vnd.jupyter.widget-view+json": {
       "version_major": 2,
       "version_minor": 0,
       "model_id": "508a3559ed0e4b15b148e30ec82d4d2d"
      }
     },
     "metadata": {},
     "output_type": "display_data"
    },
    {
     "data": {
      "text/plain": "Creating parquet from Arrow format:   0%|          | 0/13 [00:00<?, ?ba/s]",
      "application/vnd.jupyter.widget-view+json": {
       "version_major": 2,
       "version_minor": 0,
       "model_id": "4ba87081505e41d1a3a25bfc03dd2719"
      }
     },
     "metadata": {},
     "output_type": "display_data"
    },
    {
     "data": {
      "text/plain": "Creating parquet from Arrow format:   0%|          | 0/13 [00:00<?, ?ba/s]",
      "application/vnd.jupyter.widget-view+json": {
       "version_major": 2,
       "version_minor": 0,
       "model_id": "43567d9053f349368ea5a59136bb99a9"
      }
     },
     "metadata": {},
     "output_type": "display_data"
    },
    {
     "data": {
      "text/plain": "Creating parquet from Arrow format:   0%|          | 0/13 [00:00<?, ?ba/s]",
      "application/vnd.jupyter.widget-view+json": {
       "version_major": 2,
       "version_minor": 0,
       "model_id": "8f70865493eb419886d9e66c482a0ea9"
      }
     },
     "metadata": {},
     "output_type": "display_data"
    },
    {
     "data": {
      "text/plain": "Creating parquet from Arrow format:   0%|          | 0/13 [00:00<?, ?ba/s]",
      "application/vnd.jupyter.widget-view+json": {
       "version_major": 2,
       "version_minor": 0,
       "model_id": "fe8d97a77666463e9c081de47df9edb4"
      }
     },
     "metadata": {},
     "output_type": "display_data"
    },
    {
     "data": {
      "text/plain": "Creating parquet from Arrow format:   0%|          | 0/13 [00:00<?, ?ba/s]",
      "application/vnd.jupyter.widget-view+json": {
       "version_major": 2,
       "version_minor": 0,
       "model_id": "3e66cfe376ec4f3399bc1baaa61b0ed8"
      }
     },
     "metadata": {},
     "output_type": "display_data"
    },
    {
     "data": {
      "text/plain": "Creating parquet from Arrow format:   0%|          | 0/13 [00:00<?, ?ba/s]",
      "application/vnd.jupyter.widget-view+json": {
       "version_major": 2,
       "version_minor": 0,
       "model_id": "a59cc935a3d84ac0b5f068f2bc3d6e10"
      }
     },
     "metadata": {},
     "output_type": "display_data"
    },
    {
     "data": {
      "text/plain": "Creating parquet from Arrow format:   0%|          | 0/13 [00:00<?, ?ba/s]",
      "application/vnd.jupyter.widget-view+json": {
       "version_major": 2,
       "version_minor": 0,
       "model_id": "51894577127244928d393ab9eea18f82"
      }
     },
     "metadata": {},
     "output_type": "display_data"
    },
    {
     "data": {
      "text/plain": "Creating parquet from Arrow format:   0%|          | 0/13 [00:00<?, ?ba/s]",
      "application/vnd.jupyter.widget-view+json": {
       "version_major": 2,
       "version_minor": 0,
       "model_id": "65a60dd9c71842478359ab72d9f1a208"
      }
     },
     "metadata": {},
     "output_type": "display_data"
    },
    {
     "data": {
      "text/plain": "Creating parquet from Arrow format:   0%|          | 0/13 [00:00<?, ?ba/s]",
      "application/vnd.jupyter.widget-view+json": {
       "version_major": 2,
       "version_minor": 0,
       "model_id": "57b0330a4f014eafb3624e8502681504"
      }
     },
     "metadata": {},
     "output_type": "display_data"
    },
    {
     "data": {
      "text/plain": "Downloading metadata:   0%|          | 0.00/832 [00:00<?, ?B/s]",
      "application/vnd.jupyter.widget-view+json": {
       "version_major": 2,
       "version_minor": 0,
       "model_id": "349c22be446b43e581a954f2c7d7b303"
      }
     },
     "metadata": {},
     "output_type": "display_data"
    },
    {
     "data": {
      "text/plain": "Pushing dataset shards to the dataset hub:   0%|          | 0/4 [00:00<?, ?it/s]",
      "application/vnd.jupyter.widget-view+json": {
       "version_major": 2,
       "version_minor": 0,
       "model_id": "a4df0edac1144ab98e2404cce379d2c9"
      }
     },
     "metadata": {},
     "output_type": "display_data"
    },
    {
     "data": {
      "text/plain": "Creating parquet from Arrow format:   0%|          | 0/11 [00:00<?, ?ba/s]",
      "application/vnd.jupyter.widget-view+json": {
       "version_major": 2,
       "version_minor": 0,
       "model_id": "d2e1389ac53b42b7bb9de8c4f9e859d9"
      }
     },
     "metadata": {},
     "output_type": "display_data"
    },
    {
     "data": {
      "text/plain": "Creating parquet from Arrow format:   0%|          | 0/11 [00:00<?, ?ba/s]",
      "application/vnd.jupyter.widget-view+json": {
       "version_major": 2,
       "version_minor": 0,
       "model_id": "84abb0aa56e34d2a96bd0b5b477e2d78"
      }
     },
     "metadata": {},
     "output_type": "display_data"
    },
    {
     "data": {
      "text/plain": "Creating parquet from Arrow format:   0%|          | 0/11 [00:00<?, ?ba/s]",
      "application/vnd.jupyter.widget-view+json": {
       "version_major": 2,
       "version_minor": 0,
       "model_id": "7aaeec99e2bd4a968af7d7e516348268"
      }
     },
     "metadata": {},
     "output_type": "display_data"
    },
    {
     "data": {
      "text/plain": "Creating parquet from Arrow format:   0%|          | 0/11 [00:00<?, ?ba/s]",
      "application/vnd.jupyter.widget-view+json": {
       "version_major": 2,
       "version_minor": 0,
       "model_id": "39d8d6c3327241b3bbff16c18e1e4829"
      }
     },
     "metadata": {},
     "output_type": "display_data"
    },
    {
     "data": {
      "text/plain": "Downloading metadata:   0%|          | 0.00/1.51k [00:00<?, ?B/s]",
      "application/vnd.jupyter.widget-view+json": {
       "version_major": 2,
       "version_minor": 0,
       "model_id": "bd63e8636fd24b83aa1626a91ca12753"
      }
     },
     "metadata": {},
     "output_type": "display_data"
    },
    {
     "data": {
      "text/plain": "Pushing dataset shards to the dataset hub:   0%|          | 0/13 [00:00<?, ?it/s]",
      "application/vnd.jupyter.widget-view+json": {
       "version_major": 2,
       "version_minor": 0,
       "model_id": "0cb5dd0402414a3193b43218f510bcbd"
      }
     },
     "metadata": {},
     "output_type": "display_data"
    },
    {
     "data": {
      "text/plain": "Creating parquet from Arrow format:   0%|          | 0/1087 [00:00<?, ?ba/s]",
      "application/vnd.jupyter.widget-view+json": {
       "version_major": 2,
       "version_minor": 0,
       "model_id": "64b8f1f5d50a4327949ec2a023d09ee4"
      }
     },
     "metadata": {},
     "output_type": "display_data"
    },
    {
     "data": {
      "text/plain": "Creating parquet from Arrow format:   0%|          | 0/1087 [00:00<?, ?ba/s]",
      "application/vnd.jupyter.widget-view+json": {
       "version_major": 2,
       "version_minor": 0,
       "model_id": "175e0202f2a94a8ab6e4ff90f1a1d143"
      }
     },
     "metadata": {},
     "output_type": "display_data"
    },
    {
     "data": {
      "text/plain": "Creating parquet from Arrow format:   0%|          | 0/1087 [00:00<?, ?ba/s]",
      "application/vnd.jupyter.widget-view+json": {
       "version_major": 2,
       "version_minor": 0,
       "model_id": "8e07475c0b27467db6cf33d676d6dffc"
      }
     },
     "metadata": {},
     "output_type": "display_data"
    },
    {
     "data": {
      "text/plain": "Creating parquet from Arrow format:   0%|          | 0/1087 [00:00<?, ?ba/s]",
      "application/vnd.jupyter.widget-view+json": {
       "version_major": 2,
       "version_minor": 0,
       "model_id": "972b377a6b074e409dc06f7cfd6f40b5"
      }
     },
     "metadata": {},
     "output_type": "display_data"
    },
    {
     "data": {
      "text/plain": "Creating parquet from Arrow format:   0%|          | 0/1087 [00:00<?, ?ba/s]",
      "application/vnd.jupyter.widget-view+json": {
       "version_major": 2,
       "version_minor": 0,
       "model_id": "5e1d4bbfd28a431ca54a373977d56aba"
      }
     },
     "metadata": {},
     "output_type": "display_data"
    },
    {
     "data": {
      "text/plain": "Creating parquet from Arrow format:   0%|          | 0/1087 [00:00<?, ?ba/s]",
      "application/vnd.jupyter.widget-view+json": {
       "version_major": 2,
       "version_minor": 0,
       "model_id": "0d4f2770bab949f68235805bfaa85cd4"
      }
     },
     "metadata": {},
     "output_type": "display_data"
    },
    {
     "data": {
      "text/plain": "Creating parquet from Arrow format:   0%|          | 0/1087 [00:00<?, ?ba/s]",
      "application/vnd.jupyter.widget-view+json": {
       "version_major": 2,
       "version_minor": 0,
       "model_id": "2c06321138354617a56994b7cba475fe"
      }
     },
     "metadata": {},
     "output_type": "display_data"
    },
    {
     "data": {
      "text/plain": "Creating parquet from Arrow format:   0%|          | 0/1087 [00:00<?, ?ba/s]",
      "application/vnd.jupyter.widget-view+json": {
       "version_major": 2,
       "version_minor": 0,
       "model_id": "a1670cc429c44c61b9890bd07e455718"
      }
     },
     "metadata": {},
     "output_type": "display_data"
    },
    {
     "data": {
      "text/plain": "Creating parquet from Arrow format:   0%|          | 0/1087 [00:00<?, ?ba/s]",
      "application/vnd.jupyter.widget-view+json": {
       "version_major": 2,
       "version_minor": 0,
       "model_id": "d14fb34ca347441997ebb63ba89dc505"
      }
     },
     "metadata": {},
     "output_type": "display_data"
    },
    {
     "data": {
      "text/plain": "Creating parquet from Arrow format:   0%|          | 0/1087 [00:00<?, ?ba/s]",
      "application/vnd.jupyter.widget-view+json": {
       "version_major": 2,
       "version_minor": 0,
       "model_id": "e0f1dedf6ceb40149d4fb8599ac8cd9f"
      }
     },
     "metadata": {},
     "output_type": "display_data"
    },
    {
     "data": {
      "text/plain": "Creating parquet from Arrow format:   0%|          | 0/1087 [00:00<?, ?ba/s]",
      "application/vnd.jupyter.widget-view+json": {
       "version_major": 2,
       "version_minor": 0,
       "model_id": "58752411b56842309bf99cf98f89fdc9"
      }
     },
     "metadata": {},
     "output_type": "display_data"
    },
    {
     "data": {
      "text/plain": "Creating parquet from Arrow format:   0%|          | 0/1087 [00:00<?, ?ba/s]",
      "application/vnd.jupyter.widget-view+json": {
       "version_major": 2,
       "version_minor": 0,
       "model_id": "d612546382b345eeb1bb06a428f75743"
      }
     },
     "metadata": {},
     "output_type": "display_data"
    },
    {
     "data": {
      "text/plain": "Creating parquet from Arrow format:   0%|          | 0/1087 [00:00<?, ?ba/s]",
      "application/vnd.jupyter.widget-view+json": {
       "version_major": 2,
       "version_minor": 0,
       "model_id": "7f948bd9b4e04efaa888fffdb6cb0c69"
      }
     },
     "metadata": {},
     "output_type": "display_data"
    },
    {
     "data": {
      "text/plain": "Downloading metadata:   0%|          | 0.00/1.62k [00:00<?, ?B/s]",
      "application/vnd.jupyter.widget-view+json": {
       "version_major": 2,
       "version_minor": 0,
       "model_id": "8b4513dc3a6843eea390f8def66e076a"
      }
     },
     "metadata": {},
     "output_type": "display_data"
    }
   ],
   "source": [
    "qa_dataset_train = Dataset.from_pandas(qa_dataset_train)\n",
    "qa_dataset_test = Dataset.from_pandas(qa_dataset_test)\n",
    "complete_corpus = Dataset.from_pandas(complete_corpus)\n",
    "\n",
    "qa_dataset_train.push_to_hub(\"NomaDamas/search_qa_split\", 'qa_data', split='train')\n",
    "qa_dataset_test.push_to_hub(\"NomaDamas/search_qa_split\", 'qa_data', split='test')\n",
    "complete_corpus.push_to_hub(\"NomaDamas/search_qa_split\", 'corpus')"
   ],
   "metadata": {
    "collapsed": false,
    "ExecuteTime": {
     "end_time": "2024-01-03T14:05:53.587521Z",
     "start_time": "2024-01-03T13:56:34.310130Z"
    }
   },
   "id": "9ea7899bee303768"
  }
 ],
 "metadata": {
  "kernelspec": {
   "display_name": "Python 3",
   "language": "python",
   "name": "python3"
  },
  "language_info": {
   "codemirror_mode": {
    "name": "ipython",
    "version": 2
   },
   "file_extension": ".py",
   "mimetype": "text/x-python",
   "name": "python",
   "nbconvert_exporter": "python",
   "pygments_lexer": "ipython2",
   "version": "2.7.6"
  }
 },
 "nbformat": 4,
 "nbformat_minor": 5
}
